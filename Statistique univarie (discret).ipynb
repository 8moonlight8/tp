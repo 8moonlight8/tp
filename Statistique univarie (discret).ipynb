{
 "cells": [
  {
   "cell_type": "code",
   "execution_count": 10,
   "id": "2f03c549",
   "metadata": {},
   "outputs": [
    {
     "name": "stdout",
     "output_type": "stream",
     "text": [
      "   age  masse\n",
      "0  120   1920\n",
      "1  240   3827\n",
      "2  360   5542\n",
      "3  480   6995\n",
      "4  600   8681\n",
      "5  720  11207\n",
      "la moyenne est :\n",
      " age       420.0\n",
      "masse    6362.0\n",
      "dtype: float64\n",
      "la mediane est :\n",
      " age       420.0\n",
      "masse    6268.5\n",
      "dtype: float64\n",
      "l'ecart type est :\n",
      " age       224.499443\n",
      "masse    3349.103283\n",
      "dtype: float64\n",
      "la frequence est :\n",
      " age  masse\n",
      "120  1920     1\n",
      "240  3827     1\n",
      "360  5542     1\n",
      "480  6995     1\n",
      "600  8681     1\n",
      "720  11207    1\n",
      "dtype: int64\n"
     ]
    }
   ],
   "source": [
    "import pandas as pd\n",
    "import numpy as np\n",
    "import matplotlib as plt\n",
    "import seaborn as sns\n",
    "b={'age':[120,240,360,480,600,720],\n",
    "   'masse':[1920,3827,5542,6995,8681,11207]}\n",
    "a=np.array([['age',120,240,360,480,600,720],['masse',1920,3827,5542,6995,8681,11207]])\n",
    "df=pd.DataFrame(b)\n",
    "c=df.mean()\n",
    "d=df.median()\n",
    "e=df.std()\n",
    "f=df.value_counts() \n",
    "print(df)\n",
    "print(\"la moyenne est :\\n\",c)\n",
    "print(\"la mediane est :\\n\",d)\n",
    "print(\"l'ecart type est :\\n\",e)\n",
    "print(\"la frequence est :\\n\",f)"
   ]
  }
 ],
 "metadata": {
  "kernelspec": {
   "display_name": "Python 3 (ipykernel)",
   "language": "python",
   "name": "python3"
  },
  "language_info": {
   "codemirror_mode": {
    "name": "ipython",
    "version": 3
   },
   "file_extension": ".py",
   "mimetype": "text/x-python",
   "name": "python",
   "nbconvert_exporter": "python",
   "pygments_lexer": "ipython3",
   "version": "3.11.4"
  }
 },
 "nbformat": 4,
 "nbformat_minor": 5
}

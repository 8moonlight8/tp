{
 "cells": [
  {
   "cell_type": "code",
   "execution_count": null,
   "id": "0bdeddbb",
   "metadata": {},
   "outputs": [],
   "source": [
    "#exo1\n",
    "import sqlite3\n",
    "conn = sqlite3.connect(\"school.db\")\n",
    "cursor = conn.cursor()\n",
    "cursor.execute('''CREATE TABLE students(\n",
    "                  ID INTEGER PRIMARY KEY AUTOINCREMENT,\n",
    "                  name text,\n",
    "                  email text,\n",
    "                  phone INTEGER,\n",
    "                  section text,\n",
    "                  )\n",
    "                  ;''')\n",
    "conn.commit()\n",
    "conn.close()\n"
   ]
  },
  {
   "cell_type": "code",
   "execution_count": null,
   "id": "998e5d3c",
   "metadata": {},
   "outputs": [],
   "source": [
    "#exo2\n",
    "conn = sqlite3.connect(\"school.db\")\n",
    "cursor = conn.cursor()\n",
    "cursor.execute('''INSERT INTO students(name,email,phone,section) VALUES ('David',\"david@gmail.com\",333785123,'Math')\n",
    "                  ;''')\n",
    "conn.commit()\n",
    "conn.close()"
   ]
  },
  {
   "cell_type": "code",
   "execution_count": 17,
   "id": "d2a24d41",
   "metadata": {},
   "outputs": [
    {
     "name": "stdout",
     "output_type": "stream",
     "text": [
      "sqlite_sequence\n",
      "students\n"
     ]
    }
   ],
   "source": [
    "#Afficher les tables\n",
    "conn = sqlite3.connect(\"school.db\")\n",
    "cursor = conn.cursor()\n",
    "cursor.execute('''SELECT name FROM sqlite_master WHERE type='table'\n",
    "                  ;''')\n",
    "tables = cursor.fetchall()\n",
    "for table in tables:\n",
    "    print(table[0])\n",
    "\n",
    "conn.close()"
   ]
  },
  {
   "cell_type": "code",
   "execution_count": null,
   "id": "b46ad73d",
   "metadata": {},
   "outputs": [],
   "source": [
    "#supprimer une table\n",
    "conn = sqlite3.connect(\"school.db\")\n",
    "cursor=conn.cursor()\n",
    "cursor.execute('''DROP TABLE school''')\n",
    "conn.commit()\n",
    "conn.close()"
   ]
  },
  {
   "cell_type": "code",
   "execution_count": null,
   "id": "628e62b8",
   "metadata": {},
   "outputs": [],
   "source": [
    "#mettre ajour une table\n",
    "conn = sqlite3.connect(\"school.db\")\n",
    "cursor = conn.cursor()\n",
    "cursor.execute('''UPDATE students set (ID)=1 WHERE name=\"bim\"\n",
    "                  ;''')\n",
    "conn.commit()\n",
    "conn.close()"
   ]
  },
  {
   "cell_type": "code",
   "execution_count": 18,
   "id": "af05eabe",
   "metadata": {},
   "outputs": [
    {
     "name": "stdout",
     "output_type": "stream",
     "text": [
      "(1, 'David', 'david@gmail.com', 333785123, 'Math')\n",
      "(4, 'bim', 'bim@gmail.com', 123456789, 'svt')\n"
     ]
    }
   ],
   "source": [
    "#afficher une table\n",
    "conn = sqlite3.connect(\"school.db\")\n",
    "cursor = conn.cursor()\n",
    "cursor.execute('''SELECT * FROM students\n",
    "                  ;''')\n",
    "tables = cursor.fetchall()\n",
    "for table in tables:\n",
    "    print(table)\n",
    "\n",
    "conn.close()"
   ]
  },
  {
   "cell_type": "code",
   "execution_count": null,
   "id": "fd1d5c68",
   "metadata": {},
   "outputs": [],
   "source": [
    "#supprimer une ligne\n",
    "conn = sqlite3.connect(\"school.db\")\n",
    "cursor = conn.cursor()\n",
    "cursor.execute('''DELETE FROM students WHERE ID != 1\n",
    "                  ;''')\n",
    "conn.commit()\n",
    "conn.close()"
   ]
  },
  {
   "cell_type": "code",
   "execution_count": null,
   "id": "0f37faa2",
   "metadata": {},
   "outputs": [],
   "source": [
    "#exo3\n",
    "import sqlite3\n",
    "\n",
    "conn=sqlite3.connect(\"school.db\")\n",
    "cursor=conn.cursor()\n",
    "name=input(\"saisir le nom de l'etudiant:\")\n",
    "email=input(\"saisir l'email de l'etudiant:\")\n",
    "phone=int(input(\"saisir le telephone de l'etudiant:\"))\n",
    "section=input(\"saisir la section de l'etudiant:\")\n",
    "cursor.execute('''INSERT INTO students (name,email,phone,section)  \n",
    "VALUES (?,?,?,?);''',(name,email,phone,section))\n",
    "\n",
    "conn.commit()\n",
    "conn.close()"
   ]
  },
  {
   "cell_type": "code",
   "execution_count": null,
   "id": "2032dd52",
   "metadata": {},
   "outputs": [],
   "source": [
    "#exo4\n",
    "import sqlite3\n",
    "conn=sqlite3.connect(\"mydatabase.db\")\n",
    "conn.commit()\n",
    "cursor=conn.cursor()\n",
    "cursor.execute('''CREATE TABLE IF NOT EXISTS  users(\n",
    "ID INTEGER PRYMARY KEY AUTO INCREMENT,\n",
    "username text,\n",
    "password text UNIQUE\n",
    ");''')\n",
    "conn.commit()\n",
    "cursor.execute('''INSERT INTO users VALUES \n",
    "(1,\"adja\",12345),\n",
    "(2,\"kenza\",23456),\n",
    "(2,\"aicha\",34567),\n",
    "(3,\"ndeye\",46189),\n",
    "(4,\"ibrahima\",77866),\n",
    "(5,\"aida\",10004),\n",
    "(6,\"mouhamed\",19789),\n",
    "(7,\"badiene\",56001),\n",
    "(8,\"modou\",83020),\n",
    "(9,\"baye\",55392),\n",
    "(10,\"lamine\",09732),\n",
    "(11,\"john\",94037)\n",
    ";''')\n",
    "conn.commit()"
   ]
  },
  {
   "cell_type": "code",
   "execution_count": 19,
   "id": "a708b29a",
   "metadata": {},
   "outputs": [
    {
     "name": "stdout",
     "output_type": "stream",
     "text": [
      "(1, 'adja', 'azerty')\n",
      "(3, 'ndeye', '46189')\n",
      "(4, 'ibrahima', '77866')\n",
      "(5, 'aida', '10004')\n",
      "(6, 'mouhamed', '19789')\n",
      "(7, 'badiene', '56001')\n",
      "(8, 'modou', '83020')\n",
      "(9, 'baye', '55392')\n",
      "(10, 'lamine', '9732')\n",
      "(11, 'john', '94037')\n",
      "(11, 'john', '94037')\n"
     ]
    }
   ],
   "source": [
    "#exo4\n",
    "import sqlite3\n",
    "conn=sqlite3.connect(\"mydatabase.db\")\n",
    "conn.commit()\n",
    "cursor=conn.cursor()\n",
    "\n",
    "\n",
    "#afficher\n",
    "cursor.execute('''SELECT * FROM users ;''')\n",
    "tables=cursor.fetchall()\n",
    "for tab in tables:\n",
    "    print(tab)\n",
    "#afficher jonh\n",
    "cursor.execute('''SELECT * FROM users WHERE username = \"john\" ;''')\n",
    "result=cursor.fetchall()\n",
    "for table in result:\n",
    "    print(table)\n",
    "conn.commit()   \n",
    "conn.close()"
   ]
  },
  {
   "cell_type": "code",
   "execution_count": 11,
   "id": "3ebfff95",
   "metadata": {},
   "outputs": [],
   "source": [
    "#exo4 changer le mot de passe\n",
    "import sqlite3\n",
    "conn=sqlite3.connect(\"mydatabase.db\")\n",
    "cursor=conn.cursor()\n",
    "cursor.execute('''UPDATE users SET password=\"azerty\" WHERE ID = 1;''')\n",
    "conn.commit()\n",
    "cursor.execute('''DELETE FROM users WHERE ID=2;''')\n",
    "conn.commit()\n",
    "conn.close()"
   ]
  },
  {
   "cell_type": "code",
   "execution_count": 12,
   "id": "b2b71696",
   "metadata": {},
   "outputs": [],
   "source": [
    "#exo4 creer la table\n",
    "import sqlite3\n",
    "conn=sqlite3.connect(\"mydatabase.db\")\n",
    "cursor=conn.cursor()\n",
    "conn.execute('''CREATE TABLE IF NOT EXISTS posts (\n",
    "ID INTEGER PRIMARY KEY ,\n",
    "content text,\n",
    "user_id INTEGER NOT NULL,\n",
    "FOREIGN KEY (user_id) REFERENCES users(ID))\n",
    ";''')\n",
    "conn.commit()\n",
    "conn.close()"
   ]
  },
  {
   "cell_type": "code",
   "execution_count": 13,
   "id": "b662c7a5",
   "metadata": {},
   "outputs": [],
   "source": [
    "#exo4 aussi\n",
    "import sqlite3\n",
    "conn=sqlite3.connect(\"mydatabase.db\")\n",
    "cursor=conn.cursor()\n",
    "conn.execute('''INSERT INTO posts (user_id,content) VALUES \n",
    "(7,\"bondir loin\"),\n",
    "(6,\"finir son repas\"),\n",
    "(4,\"chosir une exercice\"),\n",
    "(9,\"apprendre la lecon\"),\n",
    "(2,\"partir en vacance\"),\n",
    "(1,\"franchir le pas\"),\n",
    "(3,\"sauter loin\"),\n",
    "(5,\"marcher rapidement\"),\n",
    "(10,\"j'apprécie mes eleves\"),\n",
    "(8,\"je recite\")\n",
    " ;''')\n",
    "conn.commit()\n",
    "conn.close()"
   ]
  },
  {
   "cell_type": "code",
   "execution_count": 31,
   "id": "523aef18",
   "metadata": {},
   "outputs": [],
   "source": [
    "import sqlite3\n",
    "conn=sqlite3.connect(\"mydatabase.db\")\n",
    "cursor=conn.cursor()\n",
    "conn.execute('''SELECT * FROM posts WHERE ID = 1  ;''')\n",
    "results=cursor.fetchall()\n",
    "for row in results:\n",
    "    print(row)\n",
    "conn.close()"
   ]
  },
  {
   "cell_type": "code",
   "execution_count": 37,
   "id": "d75018d9",
   "metadata": {},
   "outputs": [
    {
     "name": "stdout",
     "output_type": "stream",
     "text": [
      "a\n",
      "b\n",
      "c\n",
      "d\n",
      "e\n",
      "f\n",
      "h\n"
     ]
    }
   ],
   "source": [
    "#afficher \n",
    "print(\"a\")\n",
    "import sqlite3\n",
    "print(\"b\")\n",
    "conn=sqlite3.connect(\"mydatabase.db\")\n",
    "print(\"c\")\n",
    "cursor=conn.cursor()\n",
    "print(\"d\")\n",
    "conn.execute('''SELECT name FROM sqlite_master WHERE type='table' ;''')\n",
    "print(\"e\")\n",
    "tables = cursor.fetchall()\n",
    "print(\"f\")\n",
    "for t in tables:\n",
    "    print(\"g\")\n",
    "    print(t)\n",
    "print(\"h\")\n",
    "conn.commit()\n",
    "conn.close()"
   ]
  },
  {
   "cell_type": "code",
   "execution_count": 51,
   "id": "ca2e0f2b",
   "metadata": {},
   "outputs": [],
   "source": [
    "#Afficher les tables\n",
    "import sqlite3\n",
    "conn = sqlite3.connect(\"school.db\")\n",
    "cursor = conn.cursor()\n",
    "conn.execute('''SELECT name FROM sqlite_master WHERE type='table'\n",
    ";''')\n",
    "tables = cursor.fetchall()\n",
    "for table in tables:\n",
    "    print(table[0])\n",
    "\n",
    "conn.close()"
   ]
  },
  {
   "cell_type": "code",
   "execution_count": 53,
   "id": "84984a35",
   "metadata": {},
   "outputs": [],
   "source": [
    "#exo5 creation de la bd\n",
    "import sqlite3\n",
    "conn=sqlite3.connect(\"database.db\")\n",
    "cursor=conn.cursor()\n",
    "conn.execute('''CREATE TABLE IF NOT EXISTS costumers(\n",
    "ID INTEGER PRIMARY KEY AUTOINCREMENT,\n",
    "name TEXT NOT NULL,\n",
    "email TEXT NOT NULL,\n",
    "phone INTEGER NOT NULL\n",
    ");''')\n",
    "conn.commit()\n",
    "#conn.execute('''INSERT INTO costumers ''')\n",
    "conn.close()"
   ]
  },
  {
   "cell_type": "code",
   "execution_count": 54,
   "id": "5174646d",
   "metadata": {},
   "outputs": [],
   "source": [
    "#Exo5 insertion dans la db\n",
    "import sqlite3\n",
    "conn=sqlite3.connect(\"database.db\")\n",
    "cursor=conn.cursor()\n",
    "conn.execute('''INSERT INTO costumers(name,email,phone) VALUES \n",
    "(\"Nathalie\",\"nathalie@gmail.com\",3331567843),\n",
    "(\"Najat\",\"najat@gamail.com\",2123458991),\n",
    "(\"Majid\",\"majid@gmail.com\",2123456677),\n",
    "(\"Hayat\",\"haya@gmail.com\",2123456773),\n",
    "(\"Albert\",\"albert@gmail.com\",3336672245)\n",
    ";''')\n",
    "conn.commit()\n",
    "conn.close()"
   ]
  },
  {
   "cell_type": "code",
   "execution_count": 6,
   "id": "13ffb6d7",
   "metadata": {},
   "outputs": [],
   "source": [
    "# j'affiche juste pour verifier l'exo5 \n",
    "import sqlite3\n",
    "conn=sqlite3.connect(\"database.db\")\n",
    "cursor=conn.cursor()\n",
    "conn.execute('''SELECT * FROM costumers;''')\n",
    "results= cursor.fetchall()\n",
    "for row in results:\n",
    "    print(row)\n",
    "conn.close()"
   ]
  },
  {
   "cell_type": "code",
   "execution_count": 1,
   "id": "0db46e76",
   "metadata": {},
   "outputs": [],
   "source": [
    "#Exo6  creation \n",
    "import sqlite3\n",
    "conn=sqlite3.connect('data.db')\n",
    "cursor=conn.cursor()\n",
    "conn.execute('''CREATE TABLE IF NOT EXISTS students (\n",
    "id INTEGER PRIMARY KEY AUTOINCREMENT,\n",
    "name TEXT NOT NULL,\n",
    "email TEXT NOT NULL,\n",
    "section TEXT NOT NULL\n",
    ");''')\n",
    "conn.commit()\n",
    "conn.close()"
   ]
  },
  {
   "cell_type": "code",
   "execution_count": 82,
   "id": "951fb7a9",
   "metadata": {},
   "outputs": [],
   "source": [
    "#EXO6 insertion des donnes\n",
    "import sqlite3\n",
    "import pandas as pd\n",
    "#conn=sqlite3.connect('data.db')\n",
    "#cursor=conn.cursor()\n",
    "Student_data =[{\"Name\":\"Farid\",\"Email\":\"farid@gmail.com\",\"Section\":\"Math\"},\n",
    "               {\"Name\":\"Najat\",\"Email\":\"najat@gmail.com\",\"Section\":\"Info\"},\n",
    "               {\"Name\":\"Hafid\",\"Email\":\"hafid@gmail.com\",\"Section\":\"HG\"},\n",
    "               {\"Name\":\"Nathalie\",\"Email\":\"nathalie@gmail.com\",\"Section\":\"Sc Eco\"},\n",
    "               {\"Name\":\"Majid\",\"Email\":\"majid@gmailcom\",\"Section\":\"SVT\"},\n",
    "               {\"Name\":\"Alberto\",\"Email\":\"alberto@gmail.com\",\"Section\":\"Physique\"}]\n",
    "df=pd.DataFrame(Student_data)\n",
    "#for name in Student_data:\n",
    "#    Name=Name[]\n",
    "    \n",
    "#conn.execute('''INSERT INTO\n",
    "#''')"
   ]
  },
  {
   "cell_type": "code",
   "execution_count": null,
   "id": "a00ed8d3",
   "metadata": {},
   "outputs": [],
   "source": [
    "EXO6 :\n",
    "la liste suivante contient les données d'un groupe d'étudiants sous forme de dictionnaires Python.\n",
    "Chaque dictionnaire contient les données d'un étudiant: 'Name', 'Email', 'Section' etc.:\n",
    "\n",
    "Students_data = [{\"Name\" :\"Farid\", \"Email\": 'farid@gmail.com', \"Section\": \"Math\" } , \n",
    "           {\"Name\" : \"Najat\", \"Email\" : 'najat@gmail.com', \"Section\": \"Info\"} , \n",
    "           {\"Name\" : \"Hafid\", \"Email\": , 'hafid@gmail.com', \"Section\": \"HG\"} ,\n",
    "           {\"Name\" : \"Nathalie\",\"Email\": 'nathalie@gmail.com', \"Section\": \"Sc Eco\" } ,\n",
    "           {\"Name\" : \"Majid\", \"Email\": 'majid@gmail.com', \"Section\": \"SVT\"} , \n",
    "           {\"Name\" : \"Alberto\",\"Email\": 'alberto@gmail.com',  \"Section\": \"Physique\"} ]\n",
    "Programme Python pour créer une base de données SQLite:\n",
    "Ecrire un algorithme Python qui permet de créer une base de données SQLite nommée 'data.db' au sein de laquelle \n",
    "une table SQLite nommée 'students' possédant les mêmes attributs que la liste des données 'Students_data' ci-dessus:\n",
    "    'name', 'email', 'section' sans oublier la clée primaire 'id autoincrement.\n",
    "Programme Python pour insérer les données : \n",
    "Ecrire un autre algorithme qui permet d'insérer les données de la liste 'Students_data' dans la table SQLite 'students'.\n",
    "Programme Python pour afficher les données : \n",
    "Ecrire un programme qui permet d'afficher les données depuis la table SQLite 'students'.\n"
   ]
  },
  {
   "cell_type": "code",
   "execution_count": null,
   "id": "712ffc13",
   "metadata": {},
   "outputs": [],
   "source": [
    "\tBASE DE DONNÉES EN PYTHON AVEC SQL (Module 2)\n",
    "\n",
    "Exercice :\n",
    "EXO1 :\n",
    "Ecrire un programme python permettant de créer une base de donnée sqlite nommée school, et une table SQLite au sein de la base de donnée nommée students ayant pour attributs : Id (INTEGER autoincrement , primary key), name (du type text) , email( text) , phone( INTEGER) , section ( text)\n",
    "\n",
    "Exo2 :\n",
    "\n",
    "Reprendre l'énoncé de l'exercice précendent et écrire un programme Python qui permet d'insérer les données:\n",
    "Python\n",
    "name     =  'David'\n",
    "<b>email</b>    =  'david@gmail.com' \n",
    "<b>phone</b>    =  333785123\n",
    "<b>section</b>  =  'Math'\n",
    "\n",
    "EXO3:\n",
    "\n",
    "Reprendre l'énoncé de l'exercice précédent et écrire un programme Python qui permet d'insérer les données saisies par l'utilisateur via la méthode input():\n",
    "name      = input(\"Saisir le nom de l'étudiant : \")\n",
    "email     = input(\"Saisir l'email de l'étudiant : \")\n",
    "phone     = int(input(\"Saisir le téléphone de l'étudiant : \"))\n",
    "section   = input(\"Saisir la section de l'étudiant : \")\n",
    "\n",
    "EXO4 :\n",
    "Créez une base de données SQLite vide 'mydatabase.db' et connectez-vous à celle-ci à l'aide de Python.\n",
    "Créez une table nommée \"users\" contenant des colonnes \"id\", \"username\" et \"password\".\n",
    "Insérez des données dans la table \"users\".\n",
    "Affichez tous les enregistrements de la table \"users\".\n",
    "Affichez tous les enregistrements de la table \"users\" dont le nom d'utilisateur est \"john\".\n",
    "Mettez à jour le mot de passe de l'utilisateur dont l'ID est 1.\n",
    "Supprimez l'utilisateur dont l'ID est 2.\n",
    "Créez une autre table nommée \"posts\" contenant des colonnes \"id\", \"user_id\" et \"content\".\n",
    "Insérez des données dans la table \"posts\".\n",
    "Affichez tous les enregistrements de la table \"posts\" liés à l'utilisateur dont l'ID est 1\n",
    "\n",
    "EXO5 :\n",
    "\n",
    "Ecrire un programme en Python qui permet de créer une base de données SQLite nommée 'database.db' au sein de laquelle une table nommée 'customers' ayant les attributs suivants :\n",
    "\n",
    "id : INTGER AUTOINCREMENT\n",
    "name : TEXT NOT NULL\n",
    "email: TEXT NOT NULL\n",
    "phone : INTEGER NOT NULL\n",
    "2) Créer un autre programme Python qui permet d'insérer les données suivantes dans la table customers :\n",
    "\n",
    "\n",
    "#L'image ici ne s'affiche pas \n",
    "\n",
    "\n",
    "EXO6 :\n",
    "a liste suivante contient les données d'un groupe d'étudiants sous forme de dictionnaires Python. Chaque dictionnaire contient les données d'un étudiant: 'Name', 'Email', 'Section' etc.:\n",
    "\n",
    "Students_data = [{\"Name\" :\"Farid\", \"Email\": 'farid@gmail.com', \"Section\": \"Math\" } , \n",
    "           {\"Name\" : \"Najat\", \"Email\" : 'najat@gmail.com', \"Section\": \"Info\"} , \n",
    "           {\"Name\" : \"Hafid\", \"Email\": , 'hafid@gmail.com', \"Section\": \"HG\"} ,\n",
    "           {\"Name\" : \"Nathalie\",\"Email\": 'nathalie@gmail.com', \"Section\": \"Sc Eco\" } ,\n",
    "           {\"Name\" : \"Majid\", \"Email\": 'majid@gmail.com', \"Section\": \"SVT\"} , \n",
    "           {\"Name\" : \"Alberto\",\"Email\": 'alberto@gmail.com',  \"Section\": \"Physique\"} ]\n",
    "Programme Python pour créer une base de données SQLite: Ecrire un algorithme Python qui permet de créer une base de données SQLite nommée 'data.db' au sein de laquelle une table SQLite nommée 'students' possédant les mêmes attributs que la liste des données 'Students_data' ci-dessus: 'name', 'email', 'section' sans oublier la clée primaire 'id autoincrement.\n",
    "Programme Python pour insérer les données : Ecrire un autre algorithme qui permet d'insérer les données de la liste 'Students_data' dans la table SQLite 'students'.\n",
    "Programme Python pour afficher les données : Ecrire un programme qui permet d'afficher les données depuis la table SQLite 'students'.\n",
    "\n",
    "\n",
    "\n"
   ]
  }
 ],
 "metadata": {
  "kernelspec": {
   "display_name": "Python 3 (ipykernel)",
   "language": "python",
   "name": "python3"
  },
  "language_info": {
   "codemirror_mode": {
    "name": "ipython",
    "version": 3
   },
   "file_extension": ".py",
   "mimetype": "text/x-python",
   "name": "python",
   "nbconvert_exporter": "python",
   "pygments_lexer": "ipython3",
   "version": "3.11.4"
  }
 },
 "nbformat": 4,
 "nbformat_minor": 5
}

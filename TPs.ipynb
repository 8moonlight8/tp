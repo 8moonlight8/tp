{
 "cells": [
  {
   "cell_type": "code",
   "execution_count": 1,
   "id": "0f741891",
   "metadata": {},
   "outputs": [],
   "source": [
    "#Module 1\n",
    "import pandas as pd\n",
    "import numpy as np"
   ]
  },
  {
   "cell_type": "code",
   "execution_count": 12,
   "id": "6ad40391",
   "metadata": {},
   "outputs": [
    {
     "data": {
      "text/html": [
       "<div>\n",
       "<style scoped>\n",
       "    .dataframe tbody tr th:only-of-type {\n",
       "        vertical-align: middle;\n",
       "    }\n",
       "\n",
       "    .dataframe tbody tr th {\n",
       "        vertical-align: top;\n",
       "    }\n",
       "\n",
       "    .dataframe thead th {\n",
       "        text-align: right;\n",
       "    }\n",
       "</style>\n",
       "<table border=\"1\" class=\"dataframe\">\n",
       "  <thead>\n",
       "    <tr style=\"text-align: right;\">\n",
       "      <th></th>\n",
       "      <th>Name</th>\n",
       "      <th>Email</th>\n",
       "      <th>Section</th>\n",
       "    </tr>\n",
       "  </thead>\n",
       "  <tbody>\n",
       "    <tr>\n",
       "      <th>1</th>\n",
       "      <td>Albert</td>\n",
       "      <td>albert@gmail.com</td>\n",
       "      <td>SVT</td>\n",
       "    </tr>\n",
       "    <tr>\n",
       "      <th>2</th>\n",
       "      <td>Nathalie</td>\n",
       "      <td>nathalie@gmail.com</td>\n",
       "      <td>SC ECO</td>\n",
       "    </tr>\n",
       "    <tr>\n",
       "      <th>3</th>\n",
       "      <td>Robert</td>\n",
       "      <td>robert@gmail.com</td>\n",
       "      <td>MATH</td>\n",
       "    </tr>\n",
       "    <tr>\n",
       "      <th>4</th>\n",
       "      <td>Jesika</td>\n",
       "      <td>jesika@gmail.com</td>\n",
       "      <td>PHILO</td>\n",
       "    </tr>\n",
       "    <tr>\n",
       "      <th>5</th>\n",
       "      <td>Adam</td>\n",
       "      <td>adam@gmail.com</td>\n",
       "      <td>PHYSIQHE</td>\n",
       "    </tr>\n",
       "  </tbody>\n",
       "</table>\n",
       "</div>"
      ],
      "text/plain": [
       "       Name               Email   Section\n",
       "1    Albert    albert@gmail.com       SVT\n",
       "2  Nathalie  nathalie@gmail.com    SC ECO\n",
       "3    Robert    robert@gmail.com      MATH\n",
       "4    Jesika    jesika@gmail.com     PHILO\n",
       "5      Adam      adam@gmail.com  PHYSIQHE"
      ]
     },
     "execution_count": 12,
     "metadata": {},
     "output_type": "execute_result"
    }
   ],
   "source": [
    "#exo1\n",
    "ID=[1,2,3,4,5]\n",
    "dict={\n",
    "      'Name':['Albert','Nathalie','Robert','Jesika','Adam'],\n",
    "      'Email':['albert@gmail.com','nathalie@gmail.com','robert@gmail.com','jesika@gmail.com','adam@gmail.com'],\n",
    "      'Section':['SVT','SC ECO','MATH','PHILO','PHYSIQHE']    \n",
    "}\n",
    "data=pd.DataFrame(dict,index=ID)\n",
    "data"
   ]
  },
  {
   "cell_type": "code",
   "execution_count": 2,
   "id": "a0bd8930",
   "metadata": {},
   "outputs": [
    {
     "name": "stdout",
     "output_type": "stream",
     "text": [
      "Python\n"
     ]
    }
   ],
   "source": [
    "#exo2\n",
    "list=['P','y','t','h','o','n']\n",
    "c=pd.Series(list)\n",
    "answer=\"\"\n",
    "for i in range(0,len(list)):\n",
    "    answer+=list[i]\n",
    "print(answer)"
   ]
  },
  {
   "cell_type": "code",
   "execution_count": 9,
   "id": "9272b478",
   "metadata": {},
   "outputs": [
    {
     "name": "stdout",
     "output_type": "stream",
     "text": [
      "0     Python\n",
      "1     Dinago\n",
      "2    Tkinter\n",
      "3       pyOt\n",
      "dtype: object\n"
     ]
    }
   ],
   "source": [
    "#exo3\n",
    "list=['Python','Dinago','Tkinter','pyOt','numpy']\n",
    "c=pd.Series(list)\n",
    "c=c.drop([4])\n",
    "print(c)"
   ]
  },
  {
   "cell_type": "code",
   "execution_count": null,
   "id": "764a7f9d",
   "metadata": {},
   "outputs": [],
   "source": [
    "#exo4\n",
    "list=['python','Diango','Tkinter','pyOt','numpy']\n",
    "c=pd.Series(list)\n",
    "c=c.drop(r\n"
   ]
  },
  {
   "cell_type": "code",
   "execution_count": null,
   "id": "e053fdd8",
   "metadata": {},
   "outputs": [],
   "source": [
    "4. Reprendre l'exercice précédent (Exercice3) en créant cette fois-ci un programme basé sur la bibliothèque\n",
    "pandas python qui supprime les éléments d'index pair de la série.\n",
    "5. Créer un programme basé sur la bibliothèque pandas python qui renvoie une série pandas à partir de la liste python: \n",
    "    L = ['python' , 'Java' , 'PHP', 'Javascript' , 'C++']. sans utiliser la bibliothèque numpy!\n",
    "6Modfifier le programme suivant afin de supprimer la colonne 'Section' et la remplacer par la colonne: \n",
    "Age = [ 22 , 23 , 21 , 20 , 25 ] sans toucher à laliste data.\n",
    "les modifiction doivent être apportées uniquement au DataFrame df:\n",
    "1\n",
    "2\n",
    "3\n",
    "4\n",
    "5\n",
    "6\n",
    "7\n",
    "8\n",
    "9\n",
    "10\n",
    "11\n",
    "12\timport pandas as ps\n",
    " \n",
    "# liste des données\n",
    "data = [['Tomas' , 'tomas@gmail.com' , 'Math'], \n",
    "        ['Albert' ,'albert@gmail.com' , 'SVT' ],\n",
    "        ['Nathalie', 'nathalie@gmail.com' , 'Sc Eco'], \n",
    "        ['Roberto' ,'roberto@gmail.com' , 'Physique'],\n",
    "        ['Adam' , 'adam@gmail.com' , 'Info']]\n",
    "labels = [11 , 12, 13 , 14, 15]\n",
    " \n",
    "# création du DataFrame\n",
    "df = ps.DataFrame(data , index=labels , columns=[ 'Name' , 'Email' , 'Section'])\n",
    "\n",
    "\n",
    "7.A partir du programme suivant qui represente les données des étudiants dans un DataFrame:\n",
    "1\n",
    "2\n",
    "3\n",
    "4\n",
    "5\n",
    "6\n",
    "7\n",
    "8\n",
    "9\n",
    "10\n",
    "11\n",
    "12\timport pandas as ps\n",
    " \n",
    "# liste des données\n",
    "data = [['Tomas' , 'tomas@gmail.com' , 'Math'], \n",
    "        ['Albert' ,'albert@gmail.com' , 'SVT' ],\n",
    "        ['Nathalie', 'nathalie@gmail.com' , 'Sc Eco'], \n",
    "        ['Roberto' ,'roberto@gmail.com' , 'Physique'],\n",
    "        ['Adam' , 'adam@gmail.com' , 'Info']]\n",
    "labels = [11 , 12, 13 , 14, 15]\n",
    " \n",
    "# création du DataFrame\n",
    "df = ps.DataFrame(data , index=labels , columns=[ 'Name' , 'Email' , 'Section'])\n",
    "Ecrire un programme qui récupère les emails des étudiants en une liste: list_emails =[ ... ] sans toucher \n",
    "à la liste data des données. Les manipulations doivent être apportées uniquement au niveau du DataFrame df.\n",
    "8.Reprendre l'exercice précédent (Exercice 8) avec cette fois-ci un affichage trié selon l'âge décroissant.\n",
    "9. Reprendre l'exercice précédent (Exercice 8) avec cette fois-ci un affichage trié selon l'âge décroissant\n",
    "10. Ecrire un algorithme basé sur la bibliothèque pandas python qui permet de remplacer les valeurs négatives\n",
    "de la série suivante par des zéros:\n",
    "data = np.array ([43 , -25 , 79  ,  37 , -22  , 34 ])\n",
    "s = ps.Series(data)\n",
    "Sans toucher à la liste data. Les manipulations doivent être faites uniquement sur la série pandas s=ps.Series(data)"
   ]
  }
 ],
 "metadata": {
  "kernelspec": {
   "display_name": "Python 3 (ipykernel)",
   "language": "python",
   "name": "python3"
  },
  "language_info": {
   "codemirror_mode": {
    "name": "ipython",
    "version": 3
   },
   "file_extension": ".py",
   "mimetype": "text/x-python",
   "name": "python",
   "nbconvert_exporter": "python",
   "pygments_lexer": "ipython3",
   "version": "3.11.4"
  }
 },
 "nbformat": 4,
 "nbformat_minor": 5
}
